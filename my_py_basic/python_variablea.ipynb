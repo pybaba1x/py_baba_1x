{
 "cells": [
  {
   "cell_type": "code",
   "execution_count": null,
   "id": "627e1f84",
   "metadata": {},
   "outputs": [
    {
     "name": "stdout",
     "output_type": "stream",
     "text": [
      "12\n"
     ]
    },
    {
     "data": {
      "text/plain": [
       "int"
      ]
     },
     "execution_count": 5,
     "metadata": {},
     "output_type": "execute_result"
    }
   ],
   "source": [
    "# intager types\n",
    "\n",
    "x = 4\n",
    "y = 8\n",
    "\n",
    "z = x + y\n",
    "\n",
    "print (z)\n",
    "\n",
    "type (x)\n",
    "type (z)\n",
    "\n"
   ]
  },
  {
   "cell_type": "code",
   "execution_count": 6,
   "id": "1856a8f3",
   "metadata": {},
   "outputs": [],
   "source": [
    "# assign Multiple Values\n",
    "\n",
    "a,s,d,f = \"ami\", \"tumi\", \"tini\", \"korim\""
   ]
  },
  {
   "cell_type": "code",
   "execution_count": 15,
   "id": "9aca6be4",
   "metadata": {},
   "outputs": [
    {
     "name": "stdout",
     "output_type": "stream",
     "text": [
      "ami\n",
      "amitumi\n",
      "amikorim\n"
     ]
    }
   ],
   "source": [
    "print (a)\n",
    "\n",
    "\n",
    "print ( a + s)\n",
    "\n",
    "zz = a + f\n",
    "\n",
    "print (zz)"
   ]
  },
  {
   "cell_type": "code",
   "execution_count": null,
   "id": "fd9e7cfd",
   "metadata": {},
   "outputs": [
    {
     "name": "stdout",
     "output_type": "stream",
     "text": [
      "My name is a Nazmul Islam Naeem \n",
      "My name is a Nazmul Islam Naeem \n",
      "My name is a Nazmul Islam Naeem \n"
     ]
    }
   ],
   "source": [
    "#Global Variables\n",
    "\n",
    "my_name = \"Nazmul Islam Naeem \"\n",
    "\n",
    "def my_func ():\n",
    "    print (\"My name is a \"+ my_name)\n",
    "print (\"My name is a \"+ my_name)\n",
    "\n",
    "my_func ()\n",
    "\n",
    "print (\"My name is a \"+ my_name)"
   ]
  },
  {
   "cell_type": "code",
   "execution_count": null,
   "id": "219b04de",
   "metadata": {},
   "outputs": [],
   "source": []
  }
 ],
 "metadata": {
  "kernelspec": {
   "display_name": "Python 3",
   "language": "python",
   "name": "python3"
  },
  "language_info": {
   "codemirror_mode": {
    "name": "ipython",
    "version": 3
   },
   "file_extension": ".py",
   "mimetype": "text/x-python",
   "name": "python",
   "nbconvert_exporter": "python",
   "pygments_lexer": "ipython3",
   "version": "3.11.9"
  }
 },
 "nbformat": 4,
 "nbformat_minor": 5
}
