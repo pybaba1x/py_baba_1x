{
 "cells": [
  {
   "cell_type": "code",
   "execution_count": null,
   "id": "5757070b",
   "metadata": {},
   "outputs": [],
   "source": []
  },
  {
   "cell_type": "code",
   "execution_count": 2,
   "id": "b8811c45",
   "metadata": {},
   "outputs": [
    {
     "name": "stdout",
     "output_type": "stream",
     "text": [
      "hello world \n"
     ]
    }
   ],
   "source": [
    "print (\"hello world \")"
   ]
  },
  {
   "cell_type": "code",
   "execution_count": 3,
   "id": "eb2788d3",
   "metadata": {},
   "outputs": [],
   "source": [
    "def my (name):\n",
    "    print (f\"Hello {name}\")"
   ]
  },
  {
   "cell_type": "code",
   "execution_count": 4,
   "metadata": {},
   "outputs": [
    {
     "name": "stdout",
     "output_type": "stream",
     "text": [
      "Hello naeem\n"
     ]
    }
   ],
   "source": [
    "my (\"naeem\")"
   ]
  },
  {
   "cell_type": "code",
   "execution_count": 10,
   "id": "583d7c50",
   "metadata": {},
   "outputs": [],
   "source": [
    "def my_1 ():\n",
    "\n",
    "    my_1 (\"naeem\")"
   ]
  },
  {
   "cell_type": "code",
   "execution_count": null,
   "id": "895d0df8",
   "metadata": {},
   "outputs": [
    {
     "name": "stdout",
     "output_type": "stream",
     "text": [
      "hello\n"
     ]
    },
    {
     "data": {
      "text/plain": [
       "' This is a comment\\nwritten in\\nmore than just one line '"
      ]
     },
     "execution_count": 21,
     "metadata": {},
     "output_type": "execute_result"
    }
   ],
   "source": [
    " \n",
    "\n",
    "\n",
    "print (\"hello\") \n",
    "\n",
    "# This is a comment\n",
    "\n",
    " "
   ]
  },
  {
   "cell_type": "code",
   "execution_count": null,
   "id": "ef475c03",
   "metadata": {},
   "outputs": [],
   "source": []
  }
 ],
 "metadata": {
  "kernelspec": {
   "display_name": "Python 3",
   "language": "python",
   "name": "python3"
  },
  "language_info": {
   "codemirror_mode": {
    "name": "ipython",
    "version": 3
   },
   "file_extension": ".py",
   "mimetype": "text/x-python",
   "name": "python",
   "nbconvert_exporter": "python",
   "pygments_lexer": "ipython3",
   "version": "3.11.9"
  }
 },
 "nbformat": 4,
 "nbformat_minor": 5
}
