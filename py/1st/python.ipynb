{
 "cells": [
  {
   "cell_type": "code",
   "execution_count": null,
   "id": "880b9699",
   "metadata": {},
   "outputs": [],
   "source": [
    " "
   ]
  },
  {
   "cell_type": "code",
   "execution_count": 1,
   "id": "4484b8ba",
   "metadata": {},
   "outputs": [
    {
     "name": "stdout",
     "output_type": "stream",
     "text": [
      "Hello\n"
     ]
    }
   ],
   "source": [
    "print (\"Hello\")"
   ]
  },
  {
   "cell_type": "code",
   "execution_count": 3,
   "id": "a47cadf8",
   "metadata": {},
   "outputs": [
    {
     "name": "stdout",
     "output_type": "stream",
     "text": [
      "HELLO\n"
     ]
    }
   ],
   "source": [
    "print (\"HELLO\")"
   ]
  },
  {
   "cell_type": "code",
   "execution_count": 17,
   "id": "7752f2f0",
   "metadata": {},
   "outputs": [],
   "source": [
    "def greet ():\n",
    "    print (\"hello every one\")\n",
    "\n",
    " "
   ]
  },
  {
   "cell_type": "code",
   "execution_count": 18,
   "id": "c09cbfa2",
   "metadata": {},
   "outputs": [
    {
     "name": "stdout",
     "output_type": "stream",
     "text": [
      "hello every one\n"
     ]
    }
   ],
   "source": [
    "greet()"
   ]
  },
  {
   "cell_type": "code",
   "execution_count": 24,
   "id": "56f19f88",
   "metadata": {},
   "outputs": [
    {
     "name": "stdout",
     "output_type": "stream",
     "text": [
      "9\n"
     ]
    }
   ],
   "source": [
    "# two input funtion to sum\n",
    "\n",
    "def two_sum (num1, num2):\n",
    "    rejult = num1 + num2\n",
    "\n",
    "    return rejult\n",
    "\n",
    "sum = two_sum (4,5)\n",
    "print (sum)"
   ]
  },
  {
   "cell_type": "code",
   "execution_count": 1,
   "id": "d4df4311",
   "metadata": {},
   "outputs": [
    {
     "name": "stdout",
     "output_type": "stream",
     "text": [
      "avarage : A+\n",
      "grate : 85.0\n"
     ]
    }
   ],
   "source": [
    "def sub_grade(num1, num2, num3):\n",
    "    avg = (num1+num2+num3)/3\n",
    "\n",
    "    if avg >= 80 :\n",
    "        grade =\"A+\"\n",
    "    elif avg >= 70:\n",
    "        grade = \"A-\"\n",
    "\n",
    "    elif avg >= 60:\n",
    "        grade = \"B+\"\n",
    "    else:\n",
    "        grade = \"F\"\n",
    "\n",
    "    return avg,grade\n",
    "grade , avarag = sub_grade (88,90,77)\n",
    "\n",
    "print (\"avarage :\", avarag)\n",
    "print (\"grate :\", grade)\n"
   ]
  },
  {
   "cell_type": "code",
   "execution_count": 2,
   "id": "30371597",
   "metadata": {},
   "outputs": [
    {
     "name": "stdout",
     "output_type": "stream",
     "text": [
      "Average: 85.0\n",
      "Grade: A+\n"
     ]
    }
   ],
   "source": [
    "def sub_grade(num1, num2, num3):\n",
    "    avg = (num1 + num2 + num3) / 3\n",
    "\n",
    "    if avg >= 80:\n",
    "        grade = \"A+\"\n",
    "    elif avg >= 70:\n",
    "        grade = \"A-\"\n",
    "    elif avg >= 60:\n",
    "        grade = \"B+\"\n",
    "    else:\n",
    "        grade = \"F\"\n",
    "\n",
    "    return avg, grade\n",
    "\n",
    "# ফাংশন কল\n",
    "average, grade = sub_grade(88, 90, 77)\n",
    "\n",
    "# আউটপুট\n",
    "print(\"Average:\", average)\n",
    "print(\"Grade:\", grade)\n"
   ]
  },
  {
   "cell_type": "code",
   "execution_count": 29,
   "id": "475463df",
   "metadata": {},
   "outputs": [
    {
     "ename": "ValueError",
     "evalue": "invalid literal for int() with base 10: ''",
     "output_type": "error",
     "traceback": [
      "\u001b[31m---------------------------------------------------------------------------\u001b[39m",
      "\u001b[31mValueError\u001b[39m                                Traceback (most recent call last)",
      "\u001b[36mCell\u001b[39m\u001b[36m \u001b[39m\u001b[32mIn[29]\u001b[39m\u001b[32m, line 19\u001b[39m\n\u001b[32m     16\u001b[39m     \u001b[38;5;28;01mreturn\u001b[39;00m avg, grade\n\u001b[32m     18\u001b[39m \u001b[38;5;66;03m# ইউজার থেকে ছাত্র সংখ্যা নেওয়া\u001b[39;00m\n\u001b[32m---> \u001b[39m\u001b[32m19\u001b[39m num_students = \u001b[38;5;28;43mint\u001b[39;49m\u001b[43m(\u001b[49m\u001b[38;5;28;43minput\u001b[39;49m\u001b[43m(\u001b[49m\u001b[33;43m\"\u001b[39;49m\u001b[33;43mEnter number of students: \u001b[39;49m\u001b[33;43m\"\u001b[39;49m\u001b[43m)\u001b[49m\u001b[43m)\u001b[49m\n\u001b[32m     21\u001b[39m \u001b[38;5;66;03m# প্রতিটি ছাত্রের নম্বর ইনপুট এবং গ্রেড হিসাব\u001b[39;00m\n\u001b[32m     22\u001b[39m \u001b[38;5;28;01mfor\u001b[39;00m i \u001b[38;5;129;01min\u001b[39;00m \u001b[38;5;28mrange\u001b[39m(\u001b[32m1\u001b[39m, num_students + \u001b[32m1\u001b[39m):\n",
      "\u001b[31mValueError\u001b[39m: invalid literal for int() with base 10: ''"
     ]
    }
   ],
   "source": [
    "def calculate_grade(marks):\n",
    "    total = sum(marks)\n",
    "    avg = total / len(marks)\n",
    "    \n",
    "    if avg >= 80:\n",
    "        grade = \"A+\"\n",
    "    elif avg >= 70:\n",
    "        grade = \"A-\"\n",
    "    elif avg >= 60:\n",
    "        grade = \"B+\"\n",
    "    elif avg >= 50:\n",
    "        grade = \"B\"\n",
    "    else:\n",
    "        grade = \"F\"\n",
    "        \n",
    "    return avg, grade\n",
    "\n",
    "# ইউজার থেকে ছাত্র সংখ্যা নেওয়া\n",
    "num_students = int(input(\"Enter number of students: \"))\n",
    "\n",
    "# প্রতিটি ছাত্রের নম্বর ইনপুট এবং গ্রেড হিসাব\n",
    "for i in range(1, num_students + 1):\n",
    "    marks_input = input(f\"Enter marks for student {i} separated by space: \")\n",
    "    marks = [float(x) for x in marks_input.split()]\n",
    "    \n",
    "    average, grade = calculate_grade(marks)\n",
    "    print(f\"Student {i}: Average = {average:.2f}, Grade = {grade}\")\n"
   ]
  },
  {
   "cell_type": "code",
   "execution_count": null,
   "metadata": {},
   "outputs": [],
   "source": []
  }
 ],
 "metadata": {
  "kernelspec": {
   "display_name": "Python 3",
   "language": "python",
   "name": "python3"
  },
  "language_info": {
   "codemirror_mode": {
    "name": "ipython",
    "version": 3
   },
   "file_extension": ".py",
   "mimetype": "text/x-python",
   "name": "python",
   "nbconvert_exporter": "python",
   "pygments_lexer": "ipython3",
   "version": "3.11.9"
  }
 },
 "nbformat": 4,
 "nbformat_minor": 5
}
