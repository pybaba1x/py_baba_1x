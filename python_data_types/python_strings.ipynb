{
 "cells": [
  {
   "cell_type": "code",
   "execution_count": 2,
   "id": "ebf11049",
   "metadata": {},
   "outputs": [
    {
     "name": "stdout",
     "output_type": "stream",
     "text": [
      "hello world\n"
     ]
    }
   ],
   "source": [
    "print (\"hello world\")"
   ]
  },
  {
   "cell_type": "code",
   "execution_count": 3,
   "id": "91bc3681",
   "metadata": {},
   "outputs": [
    {
     "name": "stdout",
     "output_type": "stream",
     "text": [
      "hello\n",
      "<class 'str'>\n"
     ]
    }
   ],
   "source": [
    "# print string data type\n",
    "print (\"hello\")\n",
    "print ( type(\"hello\"))"
   ]
  },
  {
   "cell_type": "code",
   "execution_count": 6,
   "id": "58f59e45",
   "metadata": {},
   "outputs": [
    {
     "name": "stdout",
     "output_type": "stream",
     "text": [
      "hello\n",
      "        world\n",
      "this is python \n",
      "       programming  \n",
      "\n"
     ]
    }
   ],
   "source": [
    "#multiple lines strings\n",
    "print (\"\"\"hello\n",
    "        world\n",
    "this is python \n",
    "       programming  \n",
    "\"\"\")"
   ]
  },
  {
   "cell_type": "code",
   "execution_count": 12,
   "id": "c96409a2",
   "metadata": {},
   "outputs": [
    {
     "name": "stdout",
     "output_type": "stream",
     "text": [
      "e\n",
      "World!\n",
      "13\n",
      "hello, world!\n",
      "HELLO, WORLD!\n",
      "Hello,\n"
     ]
    }
   ],
   "source": [
    "# strings are arrays\n",
    "a = \"Hello, World!\"\n",
    "print(a[1]) # prints \"e\" this is a character at index 1\n",
    "print(a[7:13]) # prints \"World!\" this is a slice from index 7 to 12\n",
    "print(len(a)) # prints length of string\n",
    "print(a.lower()) # prints the string in lowercase\n",
    "print(a.upper()) # prints the string in uppercase\n",
    "\n",
    "print (a[:6])"
   ]
  },
  {
   "cell_type": "code",
   "execution_count": 37,
   "id": "95d3805c",
   "metadata": {},
   "outputs": [
    {
     "name": "stdout",
     "output_type": "stream",
     "text": [
      "b\n",
      "a\n",
      "n\n",
      "a\n",
      "n\n",
      "a\n",
      "H\n",
      "e\n",
      "l\n",
      "l\n",
      "o\n",
      " \n",
      "W\n",
      "o\n",
      "r\n",
      "l\n",
      "d\n",
      "!\n",
      " \n",
      "I\n",
      " \n",
      "a\n",
      "m\n",
      " \n",
      "a\n",
      " \n",
      "p\n",
      "y\n",
      "t\n",
      "h\n",
      "o\n",
      "n\n",
      " \n",
      "p\n",
      "r\n",
      "o\n",
      "g\n",
      "r\n",
      "a\n",
      "m\n",
      "m\n",
      "e\n",
      "r\n",
      "False\n"
     ]
    }
   ],
   "source": [
    "# string looping \n",
    "\n",
    "for x in \"banana\":\n",
    "    print(x)\n",
    "# --- IGNORE ---\n",
    "\n",
    "for gg in \"Hello World! I am a python programmer\":\n",
    "    print(gg)\n",
    "print(\"I\" in gg)"
   ]
  },
  {
   "cell_type": "code",
   "execution_count": 32,
   "id": "1581e935",
   "metadata": {},
   "outputs": [
    {
     "name": "stdout",
     "output_type": "stream",
     "text": [
      "True\n"
     ]
    }
   ],
   "source": [
    "#checking data types\n",
    "aa = \" Hello, World!\"\n",
    "print(\"Hello\" in aa)"
   ]
  },
  {
   "cell_type": "code",
   "execution_count": null,
   "id": "07263fff",
   "metadata": {},
   "outputs": [],
   "source": []
  },
  {
   "cell_type": "code",
   "execution_count": null,
   "id": "9d2863dc",
   "metadata": {},
   "outputs": [],
   "source": []
  },
  {
   "cell_type": "code",
   "execution_count": null,
   "id": "3d224685",
   "metadata": {},
   "outputs": [],
   "source": []
  }
 ],
 "metadata": {
  "kernelspec": {
   "display_name": "Python 3",
   "language": "python",
   "name": "python3"
  },
  "language_info": {
   "codemirror_mode": {
    "name": "ipython",
    "version": 3
   },
   "file_extension": ".py",
   "mimetype": "text/x-python",
   "name": "python",
   "nbconvert_exporter": "python",
   "pygments_lexer": "ipython3",
   "version": "3.11.9"
  }
 },
 "nbformat": 4,
 "nbformat_minor": 5
}
