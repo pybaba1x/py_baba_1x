{
 "cells": [
  {
   "cell_type": "code",
   "execution_count": null,
   "id": "0dabce4e",
   "metadata": {},
   "outputs": [
    {
     "name": "stdout",
     "output_type": "stream",
     "text": [
      "hello\n"
     ]
    }
   ],
   "source": [
    "print (\"hello\") "
   ]
  },
  {
   "cell_type": "code",
   "execution_count": 14,
   "metadata": {},
   "outputs": [
    {
     "name": "stdout",
     "output_type": "stream",
     "text": [
      "1 2.8 3 True\n"
     ]
    }
   ],
   "source": [
    "# print any type of data convarting to integer\n",
    "\n",
    "x =  1 \n",
    "y =  2.8\n",
    "z =  \"3\"\n",
    "a =  True\n",
    " \n",
    "\n",
    "print (x, y, z, a)\n"
   ]
  },
  {
   "cell_type": "code",
   "execution_count": 17,
   "metadata": {},
   "outputs": [
    {
     "name": "stdout",
     "output_type": "stream",
     "text": [
      "1 2 3 1\n"
     ]
    }
   ],
   "source": [
    "# this is type casting to integer\n",
    "# this is type casting to integer and printing all in one line\n",
    "print(int(x), int(y), int(z), int(a))"
   ]
  },
  {
   "cell_type": "code",
   "execution_count": 18,
   "id": "c84a3eb9",
   "metadata": {},
   "outputs": [
    {
     "name": "stdout",
     "output_type": "stream",
     "text": [
      "<class 'int'> <class 'float'> <class 'str'> <class 'bool'>\n"
     ]
    }
   ],
   "source": [
    "print(type(x), type(y), type(z), type(a))"
   ]
  },
  {
   "cell_type": "code",
   "execution_count": 20,
   "id": "5d2c819e",
   "metadata": {},
   "outputs": [
    {
     "name": "stdout",
     "output_type": "stream",
     "text": [
      "1 2.8 3 True\n",
      "<class 'int'> <class 'float'> <class 'str'> <class 'bool'>\n"
     ]
    }
   ],
   "source": [
    "# this is type casting to string\n",
    "print(str(x), str(y), str(z), str(a))\n",
    "print(type(x), type(y), type(z), type(a))"
   ]
  },
  {
   "cell_type": "code",
   "execution_count": null,
   "id": "915d3980",
   "metadata": {},
   "outputs": [],
   "source": []
  }
 ],
 "metadata": {
  "kernelspec": {
   "display_name": "Python 3",
   "language": "python",
   "name": "python3"
  },
  "language_info": {
   "codemirror_mode": {
    "name": "ipython",
    "version": 3
   },
   "file_extension": ".py",
   "mimetype": "text/x-python",
   "name": "python",
   "nbconvert_exporter": "python",
   "pygments_lexer": "ipython3",
   "version": "3.11.9"
  }
 },
 "nbformat": 4,
 "nbformat_minor": 5
}
