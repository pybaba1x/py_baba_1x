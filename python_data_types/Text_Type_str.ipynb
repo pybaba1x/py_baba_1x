{
 "cells": [
  {
   "cell_type": "code",
   "execution_count": 1,
   "id": "5d0e6960",
   "metadata": {},
   "outputs": [
    {
     "name": "stdout",
     "output_type": "stream",
     "text": [
      "<class 'str'>\n"
     ]
    }
   ],
   "source": [
    "#Text Type:\tstr\n",
    "\n",
    "# syntax\n",
    "# variable_name = \"value\"\n",
    "a = \"hello\"\n",
    "print(type(a))"
   ]
  },
  {
   "cell_type": "code",
   "execution_count": null,
   "metadata": {},
   "outputs": [
    {
     "name": "stdout",
     "output_type": "stream",
     "text": [
      "Hello, World!\n",
      "<class 'str'>\n"
     ]
    }
   ],
   "source": [
    "mystring = 'Hello, World!'\n",
    "print(mystring)     \n",
    "print(type(mystring))\n"
   ]
  },
  {
   "cell_type": "code",
   "execution_count": 8,
   "id": "23ead576",
   "metadata": {},
   "outputs": [
    {
     "name": "stdout",
     "output_type": "stream",
     "text": [
      "I am learning Python\n"
     ]
    }
   ],
   "source": [
    "#String Operations\n",
    "\n",
    "mystring1 = (\"I am learning\")\n",
    "\n",
    "mystring1 = (mystring1 + \" Python\")\n",
    "\n",
    "print(mystring1)\n"
   ]
  },
  {
   "cell_type": "code",
   "execution_count": 15,
   "id": "a02e9955",
   "metadata": {},
   "outputs": [
    {
     "name": "stdout",
     "output_type": "stream",
     "text": [
      "ello\n",
      "orl\n",
      "llo, World!\n",
      "Hello\n"
     ]
    }
   ],
   "source": [
    "# string indexing\n",
    "mystring2 = \"Hello, World!\"\n",
    "\n",
    "print (mystring2[1:5 ])  # prints \"ello\"\n",
    "\n",
    "print (mystring2[-5:-2]) # prints \"orl\"\n",
    "\n",
    "print (mystring2[2:])   # prints \"llo, World!\"\n",
    "\n",
    "print (mystring2[:5])  # prints \"Hello\""
   ]
  },
  {
   "cell_type": "code",
   "execution_count": 16,
   "metadata": {},
   "outputs": [
    {
     "name": "stdout",
     "output_type": "stream",
     "text": [
      "hello, world!\n",
      "HELLO, WORLD!\n",
      "Jello, World!\n",
      "['Hello', ' World!']\n",
      "13\n",
      "Hello, World!\n",
      "Hello, world!\n",
      "3\n",
      "True\n"
     ]
    }
   ],
   "source": [
    "# String Methods\n",
    "\n",
    "print(mystring2.lower())   # hello, world!\n",
    "print(mystring2.upper())   # HELLO, WORLD!  \n",
    "print(mystring2.replace(\"H\", \"J\"))  # Jello, World!\n",
    "print(mystring2.split(\",\"))  # ['Hello', ' World!']\n",
    "print(len(mystring2))  # 13\n",
    "print(mystring2.strip())  # Hello, World!\n",
    "print(mystring2.capitalize())  # Hello, world!\n",
    "print(mystring2.count(\"l\"))  # 3\n",
    "print(mystring2.startswith(\"Hello\"))  # True    "
   ]
  },
  {
   "cell_type": "code",
   "execution_count": 19,
   "id": "c55e7084",
   "metadata": {},
   "outputs": [
    {
     "name": "stdout",
     "output_type": "stream",
     "text": [
      "My name is Naeem aned I am 22 years old.\n",
      "my name is Naeem and I am 22 years old .\n"
     ]
    }
   ],
   "source": [
    "#String Formatting\n",
    "name = \"Naeem\"\n",
    "age = 22\n",
    "\n",
    "print(f\"My name is {name} aned I am {age} years old.\")  # My name is Naeem and I am 22 years old.\n",
    " \n",
    "\n",
    "print(\"my name is {} and I am {} years old .\" .format(name, age))  # my name is 22 and I am Naeem years old ."
   ]
  },
  {
   "cell_type": "code",
   "execution_count": null,
   "id": "1010da35",
   "metadata": {},
   "outputs": [],
   "source": []
  }
 ],
 "metadata": {
  "kernelspec": {
   "display_name": "Python 3",
   "language": "python",
   "name": "python3"
  },
  "language_info": {
   "codemirror_mode": {
    "name": "ipython",
    "version": 3
   },
   "file_extension": ".py",
   "mimetype": "text/x-python",
   "name": "python",
   "nbconvert_exporter": "python",
   "pygments_lexer": "ipython3",
   "version": "3.11.9"
  }
 },
 "nbformat": 4,
 "nbformat_minor": 5
}
