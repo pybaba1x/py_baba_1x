{
 "cells": [
  {
   "cell_type": "code",
   "execution_count": 5,
   "id": "795085d2",
   "metadata": {},
   "outputs": [
    {
     "name": "stdout",
     "output_type": "stream",
     "text": [
      "('apple', 'banana', 'cherry')\n"
     ]
    }
   ],
   "source": [
    "#Ordered (index থাকে)\n",
    "#Mutable (তৈরি হওয়ার পর পরিবর্তন করা যায় — মানে item যোগ/মুছে ফেলা যায়)\n",
    "#duplicate values রাখা যায়\n",
    "my_tuple = (\"apple\", \"banana\", \"cherry\")\n",
    "print (my_tuple)\n",
    "\n",
    "#"
   ]
  },
  {
   "cell_type": "code",
   "execution_count": 16,
   "metadata": {},
   "outputs": [
    {
     "name": "stdout",
     "output_type": "stream",
     "text": [
      "apple\n"
     ]
    },
    {
     "data": {
      "text/plain": [
       "str"
      ]
     },
     "execution_count": 16,
     "metadata": {},
     "output_type": "execute_result"
    }
   ],
   "source": [
    "# single item tuple\n",
    "my_tuple1 = (\"apple\")\n",
    "print (my_tuple1)\n",
    "\n",
    "type(my_tuple1)\n",
    "\n"
   ]
  },
  {
   "cell_type": "code",
   "execution_count": 17,
   "id": "e1edabda",
   "metadata": {},
   "outputs": [
    {
     "name": "stdout",
     "output_type": "stream",
     "text": [
      "('apple',)\n"
     ]
    },
    {
     "data": {
      "text/plain": [
       "tuple"
      ]
     },
     "execution_count": 17,
     "metadata": {},
     "output_type": "execute_result"
    }
   ],
   "source": [
    "my_tuple2 = (\"apple\",)\n",
    "print (my_tuple2)\n",
    "\n",
    "type(my_tuple2)"
   ]
  },
  {
   "cell_type": "code",
   "execution_count": 23,
   "id": "343f6661",
   "metadata": {},
   "outputs": [
    {
     "name": "stdout",
     "output_type": "stream",
     "text": [
      "('apple', 'banana', 'cherry', 23, 4.5, True, False)\n"
     ]
    },
    {
     "data": {
      "text/plain": [
       "tuple"
      ]
     },
     "execution_count": 23,
     "metadata": {},
     "output_type": "execute_result"
    }
   ],
   "source": [
    "# multiple item tuple\n",
    "my_tuple3 = (\"apple\", \"banana\", \"cherry\", 23, 4.5, True, False)\n",
    "print(my_tuple3)\n",
    "type(my_tuple3)"
   ]
  },
  {
   "cell_type": "code",
   "execution_count": 21,
   "id": "caa04484",
   "metadata": {},
   "outputs": [
    {
     "name": "stdout",
     "output_type": "stream",
     "text": [
      "('apple', 'banana', 'cherry', 23, 4.5, True, False)\n"
     ]
    },
    {
     "data": {
      "text/plain": [
       "tuple"
      ]
     },
     "execution_count": 21,
     "metadata": {},
     "output_type": "execute_result"
    }
   ],
   "source": [
    "my_tuple3 = (\"apple\", \"banana\", \"cherry\", 23, 4.5, True, False)\n",
    "print(my_tuple3)\n",
    "type(my_tuple3)"
   ]
  },
  {
   "cell_type": "code",
   "execution_count": 26,
   "id": "f9e2812f",
   "metadata": {},
   "outputs": [
    {
     "name": "stdout",
     "output_type": "stream",
     "text": [
      "('banana', 'cherry', 23, 4.5)\n"
     ]
    }
   ],
   "source": [
    "#print index\n",
    "print (my_tuple3[1:5])"
   ]
  }
 ],
 "metadata": {
  "kernelspec": {
   "display_name": "Python 3",
   "language": "python",
   "name": "python3"
  },
  "language_info": {
   "codemirror_mode": {
    "name": "ipython",
    "version": 3
   },
   "file_extension": ".py",
   "mimetype": "text/x-python",
   "name": "python",
   "nbconvert_exporter": "python",
   "pygments_lexer": "ipython3",
   "version": "3.11.9"
  }
 },
 "nbformat": 4,
 "nbformat_minor": 5
}
