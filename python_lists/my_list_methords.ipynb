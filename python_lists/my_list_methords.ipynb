{
 "cells": [
  {
   "cell_type": "code",
   "execution_count": 1,
   "id": "0ace2e0e",
   "metadata": {},
   "outputs": [
    {
     "name": "stdout",
     "output_type": "stream",
     "text": [
      "hello world\n"
     ]
    }
   ],
   "source": [
    "print(\"hello world\")"
   ]
  },
  {
   "cell_type": "code",
   "execution_count": 75,
   "id": "d0abd95a",
   "metadata": {},
   "outputs": [
    {
     "name": "stdout",
     "output_type": "stream",
     "text": [
      "['apple', 'banana', 'cherry', 'date']\n",
      "[3, 1, 4, 1, 5, 9, 2, 6, 5]\n",
      "4\n",
      "9\n"
     ]
    }
   ],
   "source": [
    "my_list = [\"apple\", \"banana\", \"cherry\", \"date\"]\n",
    "my_list1 = [3, 1, 4, 1, 5, 9, 2, 6, 5]\n",
    "\n",
    "print (my_list)\n",
    "\n",
    "print (my_list1)\n",
    "\n",
    "print (len(my_list))\n",
    "\n",
    "print (len(my_list1))"
   ]
  },
  {
   "cell_type": "code",
   "execution_count": null,
   "id": "b8030ae0",
   "metadata": {},
   "outputs": [
    {
     "name": "stdout",
     "output_type": "stream",
     "text": [
      "['apple', 'banana', 'cherry', 'date', '10']\n",
      "5\n"
     ]
    }
   ],
   "source": [
    "# append new item\n",
    "\n",
    "#my_list.append(\"10\")\n",
    "print (my_list)\n",
    "print (len(my_list))\n",
    "\n",
    "#my_list.remove(\"10\")"
   ]
  },
  {
   "cell_type": "code",
   "execution_count": null,
   "id": "c3760a63",
   "metadata": {},
   "outputs": [
    {
     "name": "stdout",
     "output_type": "stream",
     "text": [
      "['apple', 'banana', 'cherry']\n"
     ]
    }
   ],
   "source": [
    "#my_list.pop()\n",
    "print (my_list)"
   ]
  },
  {
   "cell_type": "code",
   "execution_count": 87,
   "id": "6438162e",
   "metadata": {},
   "outputs": [
    {
     "name": "stdout",
     "output_type": "stream",
     "text": [
      "['apple', 'banana', 'cherry', 'date']\n",
      "['apple', 'banana', 'cherry', 'date']\n"
     ]
    }
   ],
   "source": [
    "new_list = my_list.copy()\n",
    "print (my_list)\n",
    "print (new_list)"
   ]
  },
  {
   "cell_type": "code",
   "execution_count": null,
   "id": "4dadc5ea",
   "metadata": {},
   "outputs": [],
   "source": []
  },
  {
   "cell_type": "code",
   "execution_count": null,
   "id": "53a21390",
   "metadata": {},
   "outputs": [],
   "source": []
  },
  {
   "cell_type": "code",
   "execution_count": null,
   "id": "538b6914",
   "metadata": {},
   "outputs": [],
   "source": []
  }
 ],
 "metadata": {
  "kernelspec": {
   "display_name": "Python 3",
   "language": "python",
   "name": "python3"
  },
  "language_info": {
   "codemirror_mode": {
    "name": "ipython",
    "version": 3
   },
   "file_extension": ".py",
   "mimetype": "text/x-python",
   "name": "python",
   "nbconvert_exporter": "python",
   "pygments_lexer": "ipython3",
   "version": "3.11.9"
  }
 },
 "nbformat": 4,
 "nbformat_minor": 5
}
