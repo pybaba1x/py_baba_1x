{
 "cells": [
  {
   "cell_type": "code",
   "execution_count": 1,
   "id": "4a316538",
   "metadata": {},
   "outputs": [
    {
     "name": "stdout",
     "output_type": "stream",
     "text": [
      "hello world\n"
     ]
    }
   ],
   "source": [
    "print (\"hello world\")"
   ]
  },
  {
   "cell_type": "code",
   "execution_count": 4,
   "metadata": {},
   "outputs": [
    {
     "name": "stdout",
     "output_type": "stream",
     "text": [
      "['apple', 'banana', 'cherry', 'date']\n",
      "apple\n",
      "banana\n",
      "cherry\n",
      "date\n"
     ]
    }
   ],
   "source": [
    "#list looping \n",
    "#syntax\n",
    "#for item in list_name:\n",
    "#    print (item)\n",
    "#example\n",
    "my_list = [\"apple\", \"banana\", \"cherry\", \"date\"]\n",
    "print (my_list)\n",
    "\n",
    "for i in my_list:\n",
    "    print (i)\n"
   ]
  },
  {
   "cell_type": "code",
   "execution_count": 7,
   "id": "a4a22b18",
   "metadata": {},
   "outputs": [
    {
     "name": "stdout",
     "output_type": "stream",
     "text": [
      "[1, 1, 2, 3, 4, 5, 5, 6, 9]\n",
      "1\n",
      "1\n",
      "2\n",
      "3\n",
      "4\n",
      "5\n",
      "5\n",
      "6\n",
      "9\n"
     ]
    }
   ],
   "source": [
    "my_list1 = [3, 1, 4, 1, 5, 9, 2, 6, 5]\n",
    "my_list1.sort()\n",
    "print (my_list1)\n",
    "\n",
    "for i in my_list1:\n",
    "    print (i)"
   ]
  },
  {
   "cell_type": "code",
   "execution_count": 12,
   "id": "0dfee33c",
   "metadata": {},
   "outputs": [
    {
     "name": "stdout",
     "output_type": "stream",
     "text": [
      "index 0 and list number 1\n",
      "index 1 and list number 1\n",
      "index 2 and list number 2\n",
      "index 3 and list number 3\n",
      "index 4 and list number 4\n",
      "index 5 and list number 5\n",
      "index 6 and list number 5\n",
      "index 7 and list number 6\n",
      "index 8 and list number 9\n"
     ]
    }
   ],
   "source": [
    "for i in range (len(my_list1)):\n",
    "    print(\"index {} and list number {}\".format(i, my_list1[i]))"
   ]
  },
  {
   "cell_type": "code",
   "execution_count": null,
   "id": "a72faf8d",
   "metadata": {},
   "outputs": [
    {
     "name": "stdout",
     "output_type": "stream",
     "text": [
      "index number is 0 and list number is 10\n",
      "index number is 1 and list number is 20\n",
      "index number is 2 and list number is 30\n",
      "index number is 3 and list number is 40\n",
      "index number is 4 and list number is 50\n",
      "index number is 5 and list number is 60\n",
      "index number is 6 and list number is 70\n",
      "index number is 7 and list number is 80\n",
      "index number is 8 and list number is 90\n",
      "index number is 9 and list number is 100\n"
     ]
    }
   ],
   "source": [
    "my_list2 = [10, 20, 30, 40, 50, 60, 70, 80, 90, 100]\n",
    "for i in range (len(my_list2)):\n",
    "    print (\"index number is {} and list number is {}\".format (i, my_list2[i]))\n",
    "\n",
    "    "
   ]
  },
  {
   "cell_type": "code",
   "execution_count": 15,
   "id": "775a686a",
   "metadata": {},
   "outputs": [
    {
     "name": "stdout",
     "output_type": "stream",
     "text": [
      "target not found at index 0\n",
      "target not found at index 1\n",
      "target not found at index 2\n",
      "target not found at index 3\n",
      "target not found at index 4\n",
      "target not found at index 5\n",
      "target found at index 6\n"
     ]
    }
   ],
   "source": [
    "my_list3 = [1,2,3,4,5,6,7,8,9,10]\n",
    "target = 7\n",
    "\n",
    "for i in range (len (my_list3)):\n",
    "    if my_list3[i] == target:\n",
    "        print (\"target found at index {}\".format(i))\n",
    "        break\n",
    "    else:\n",
    "        print (\"target not found at index {}\".format(i))    \n",
    "        "
   ]
  },
  {
   "cell_type": "code",
   "execution_count": null,
   "metadata": {},
   "outputs": [],
   "source": []
  },
  {
   "cell_type": "code",
   "execution_count": 18,
   "id": "d2cc555f",
   "metadata": {},
   "outputs": [
    {
     "name": "stdout",
     "output_type": "stream",
     "text": [
      "The square of 1 is 1\n",
      "The square of 2 is 4\n",
      "The square of 3 is 9\n",
      "The square of 4 is 16\n",
      "The square of 5 is 25\n",
      "The square of 6 is 36\n",
      "The square of 7 is 49\n",
      "The square of 8 is 64\n",
      "The square of 9 is 81\n",
      "The square of 10 is 100\n"
     ]
    }
   ],
   "source": [
    "# Loop through my_list3 and print the square of each number\n",
    "for num in my_list3:\n",
    "    print(f\"The square of {num} is {num ** 2}\")"
   ]
  },
  {
   "cell_type": "code",
   "execution_count": 29,
   "metadata": {},
   "outputs": [
    {
     "name": "stdout",
     "output_type": "stream",
     "text": [
      "the nuber is 0 and square is 0\n",
      "the nuber is 1 and square is 1\n",
      "the nuber is 2 and square is 4\n",
      "the nuber is 3 and square is 9\n",
      "the nuber is 4 and square is 16\n",
      "the nuber is 5 and square is 25\n",
      "the nuber is 6 and square is 36\n",
      "the nuber is 7 and square is 49\n",
      "\n",
      "\n",
      "the nuber is 5 and square is 25\n",
      "the nuber is 3 and square is 9\n",
      "the nuber is 8 and square is 64\n",
      "the nuber is 6 and square is 36\n",
      "the nuber is 2 and square is 4\n",
      "the nuber is 7 and square is 49\n",
      "the nuber is 4 and square is 16\n",
      "the nuber is 1 and square is 1\n"
     ]
    }
   ],
   "source": [
    "my_list4 = [5, 3, 8, 6, 2 , 7, 4, 1]\n",
    "\n",
    "for i in range (len(my_list4)):\n",
    "\n",
    "    print (f\"the nuber is {i} and square is {i*i}\")\n",
    "\n",
    "print(\"\\n\")\n",
    "for i in my_list4:\n",
    "    print (f\"the nuber is {i} and square is {i**2}\")\n"
   ]
  },
  {
   "cell_type": "code",
   "execution_count": 40,
   "id": "1913b148",
   "metadata": {},
   "outputs": [
    {
     "name": "stdout",
     "output_type": "stream",
     "text": [
      "1\n",
      "odd number1\n",
      "2\n",
      "even number2\n",
      "3\n",
      "odd number3\n",
      "4\n",
      "even number4\n",
      "5\n",
      "odd number5\n",
      "6\n",
      "even number6\n",
      "7\n",
      "odd number7\n",
      "8\n",
      "even number8\n",
      "9\n",
      "odd number9\n"
     ]
    }
   ],
   "source": [
    "for i in range (1 ,10):\n",
    "    print (i)\n",
    "    if i % 2 == 0:\n",
    "        print (\"even number{}\".format(i))\n",
    "    else:\n",
    "        print (\"odd number{}\".format(i))"
   ]
  },
  {
   "cell_type": "code",
   "execution_count": null,
   "metadata": {},
   "outputs": [],
   "source": []
  }
 ],
 "metadata": {
  "kernelspec": {
   "display_name": "Python 3",
   "language": "python",
   "name": "python3"
  },
  "language_info": {
   "codemirror_mode": {
    "name": "ipython",
    "version": 3
   },
   "file_extension": ".py",
   "mimetype": "text/x-python",
   "name": "python",
   "nbconvert_exporter": "python",
   "pygments_lexer": "ipython3",
   "version": "3.11.9"
  }
 },
 "nbformat": 4,
 "nbformat_minor": 5
}
