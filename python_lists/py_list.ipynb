{
 "cells": [
  {
   "cell_type": "code",
   "execution_count": 10,
   "id": "a5297aa2",
   "metadata": {},
   "outputs": [
    {
     "name": "stdout",
     "output_type": "stream",
     "text": [
      "<class 'list'>\n"
     ]
    }
   ],
   "source": [
    "#list\n",
    "my_list = [\"apple\", \"banana\", \"cherry\"]\n",
    "print(type(my_list))"
   ]
  },
  {
   "cell_type": "code",
   "execution_count": 11,
   "metadata": {},
   "outputs": [
    {
     "name": "stdout",
     "output_type": "stream",
     "text": [
      "['apple', 'banana', 'cherry']\n"
     ]
    }
   ],
   "source": [
    "print (my_list)"
   ]
  },
  {
   "cell_type": "code",
   "execution_count": 13,
   "id": "b097622c",
   "metadata": {},
   "outputs": [
    {
     "name": "stdout",
     "output_type": "stream",
     "text": [
      "cherry\n",
      "['apple', 'banana', 'cherry']\n",
      "3\n"
     ]
    }
   ],
   "source": [
    "print (my_list[2])\n",
    "print(my_list)\n",
    "\n",
    "print (len(my_list))"
   ]
  },
  {
   "cell_type": "code",
   "execution_count": 22,
   "id": "1d19d50f",
   "metadata": {},
   "outputs": [
    {
     "name": "stdout",
     "output_type": "stream",
     "text": [
      "['apple', 'banana', 'cherry', 'orange', 'mango', 'aa', 'bb', 'aa', 'bb', 'cc', 'aa', 'bb', 'cc', 'aa', 'bb', 'cc', 'aa', 'bb', 'cc']\n"
     ]
    }
   ],
   "source": [
    "# new item add\n",
    "my_list.extend([\"aa\", \"bb\",\"cc\"])\n",
    "print(my_list)"
   ]
  },
  {
   "cell_type": "code",
   "execution_count": 29,
   "id": "e69b32f7",
   "metadata": {},
   "outputs": [
    {
     "name": "stdout",
     "output_type": "stream",
     "text": [
      "19\n",
      "['apple', 'banana', 'cherry', 'orange']\n"
     ]
    }
   ],
   "source": [
    "print(len(my_list))\n",
    "\n",
    "print (my_list[:4])\n",
    "\n"
   ]
  },
  {
   "cell_type": "code",
   "execution_count": 35,
   "id": "6ea7468e",
   "metadata": {},
   "outputs": [
    {
     "name": "stdout",
     "output_type": "stream",
     "text": [
      "['apple', 'orssange', 'orssange', 'orssange', 'banana', 'cherry', 'orange', 'mango', 'aa', 'bb', 'aa', 'bb', 'cc', 'aa', 'bb', 'cc', 'aa', 'bb', 'cc', 'aa', 'bb']\n",
      "21\n",
      "['apple', 'orssange', 'orssange', 'orssange', 'orssange', 'banana', 'cherry', 'orange', 'mango', 'aa', 'bb', 'aa', 'bb', 'cc', 'aa', 'bb', 'cc', 'aa', 'bb', 'cc', 'aa', 'bb']\n",
      "22\n"
     ]
    }
   ],
   "source": [
    "print (my_list)\n",
    "print (len(my_list))\n",
    "\n",
    "my_list.insert(1, \"orssange\")\n",
    "print (my_list)\n",
    "\n",
    "print (len(my_list))"
   ]
  },
  {
   "cell_type": "code",
   "execution_count": 38,
   "id": "ca7fb2d3",
   "metadata": {},
   "outputs": [
    {
     "name": "stdout",
     "output_type": "stream",
     "text": [
      "['apple', 'orssange', 'banana', 'cherry', 'orange', 'mango', 'aa', 'bb', 'aa', 'bb', 'cc', 'aa', 'bb', 'cc', 'aa', 'bb', 'cc', 'aa', 'bb']\n",
      "19\n"
     ]
    }
   ],
   "source": [
    "my_list.pop(1)\n",
    "print (my_list)\n",
    "print (len(my_list))"
   ]
  },
  {
   "cell_type": "code",
   "execution_count": 39,
   "metadata": {},
   "outputs": [
    {
     "name": "stdout",
     "output_type": "stream",
     "text": [
      "['aa', 'aa', 'aa', 'aa', 'aa', 'apple', 'banana', 'bb', 'bb', 'bb', 'bb', 'bb', 'cc', 'cc', 'cc', 'cherry', 'mango', 'orange', 'orssange']\n"
     ]
    }
   ],
   "source": [
    "my_list.sort()\n",
    "print (my_list)"
   ]
  },
  {
   "cell_type": "code",
   "execution_count": 46,
   "id": "b2cc3af4",
   "metadata": {},
   "outputs": [
    {
     "name": "stdout",
     "output_type": "stream",
     "text": [
      "[3, 1, 4, 1, 5, 9, 2, 6, 5]\n",
      "[1, 1, 2, 3, 4, 5, 5, 6, 9]\n",
      "1\n",
      "1\n",
      "2\n",
      "3\n",
      "4\n",
      "5\n",
      "5\n",
      "6\n",
      "9\n"
     ]
    }
   ],
   "source": [
    "my_list1 = [3, 1, 4, 1, 5, 9, 2, 6, 5]\n",
    "print (my_list1)\n",
    "my_list1.sort()\n",
    "print (my_list1)\n",
    "\n",
    "for item in my_list1:\n",
    "    print (item)"
   ]
  },
  {
   "cell_type": "code",
   "execution_count": null,
   "id": "ae1ee451",
   "metadata": {},
   "outputs": [],
   "source": []
  }
 ],
 "metadata": {
  "kernelspec": {
   "display_name": "Python 3",
   "language": "python",
   "name": "python3"
  },
  "language_info": {
   "codemirror_mode": {
    "name": "ipython",
    "version": 3
   },
   "file_extension": ".py",
   "mimetype": "text/x-python",
   "name": "python",
   "nbconvert_exporter": "python",
   "pygments_lexer": "ipython3",
   "version": "3.11.9"
  }
 },
 "nbformat": 4,
 "nbformat_minor": 5
}
